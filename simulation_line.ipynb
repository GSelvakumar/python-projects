{
  "nbformat": 4,
  "nbformat_minor": 0,
  "metadata": {
    "colab": {
      "name": "simulation_line.ipynb",
      "provenance": [],
      "authorship_tag": "ABX9TyPLurwG86SvDq3g9DsrhBwR",
      "include_colab_link": true
    },
    "kernelspec": {
      "name": "python3",
      "display_name": "Python 3"
    },
    "language_info": {
      "name": "python"
    }
  },
  "cells": [
    {
      "cell_type": "markdown",
      "metadata": {
        "id": "view-in-github",
        "colab_type": "text"
      },
      "source": [
        "<a href=\"https://colab.research.google.com/github/GSelvakumar/python-projects/blob/main/simulation_line.ipynb\" target=\"_parent\"><img src=\"https://colab.research.google.com/assets/colab-badge.svg\" alt=\"Open In Colab\"/></a>"
      ]
    },
    {
      "cell_type": "code",
      "metadata": {
        "id": "0re6aJ5ZLy2U"
      },
      "source": [
        "import time\n",
        "import random"
      ],
      "execution_count": 2,
      "outputs": []
    },
    {
      "cell_type": "code",
      "metadata": {
        "id": "kskRQBvUOETW"
      },
      "source": [
        "class Queue:\n",
        "  def __init__(self):\n",
        "    self.items = []\n",
        "\n",
        "  def is_empty(self):\n",
        "    return self.items == []\n",
        "\n",
        "  def enqueue(self, item):\n",
        "    self.items.insert(0, item)\n",
        "  \n",
        "  def dequeue(self):\n",
        "    return self.items.pop()\n",
        "\n",
        "  def size(self):\n",
        "    return len(self.items)\n",
        "\n",
        "  def simulate_line(self, till_show, max_time):\n",
        "    pq = Queue()\n",
        "    tix_sold = []\n",
        "\n",
        "    for i in range(100):\n",
        "      pq.enqueue(\"person\" + str(i))\n",
        "\n",
        "    t_end = time.time() + till_show\n",
        "    now = time.time()\n",
        "    \n",
        "    while now < t_end and not pq.is_empty():\n",
        "      now = time.time()\n",
        "      r = random.randint(0, max_time)\n",
        "      time.sleep(r)\n",
        "      person = pq.dequeue()\n",
        "      print(person)\n",
        "      tix_sold.append(person)\n",
        "\n",
        "    return tix_sold"
      ],
      "execution_count": 1,
      "outputs": []
    },
    {
      "cell_type": "code",
      "metadata": {
        "colab": {
          "base_uri": "https://localhost:8080/"
        },
        "id": "iF9si3AVQYP_",
        "outputId": "730d8ecc-a94e-4069-e232-13f75e473c9f"
      },
      "source": [
        "queue = Queue()\n",
        "sold = queue.simulate_line(20, 2)\n",
        "print(sold)"
      ],
      "execution_count": 3,
      "outputs": [
        {
          "output_type": "stream",
          "text": [
            "person0\n",
            "person1\n",
            "person2\n",
            "person3\n",
            "person4\n",
            "person5\n",
            "person6\n",
            "person7\n",
            "person8\n",
            "person9\n",
            "person10\n",
            "person11\n",
            "person12\n",
            "person13\n",
            "person14\n",
            "person15\n",
            "person16\n",
            "person17\n",
            "person18\n",
            "person19\n",
            "person20\n",
            "['person0', 'person1', 'person2', 'person3', 'person4', 'person5', 'person6', 'person7', 'person8', 'person9', 'person10', 'person11', 'person12', 'person13', 'person14', 'person15', 'person16', 'person17', 'person18', 'person19', 'person20']\n"
          ],
          "name": "stdout"
        }
      ]
    }
  ]
}