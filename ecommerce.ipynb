{
  "nbformat": 4,
  "nbformat_minor": 0,
  "metadata": {
    "colab": {
      "name": "ecommerce.ipynb",
      "provenance": [],
      "authorship_tag": "ABX9TyPGUoqf43G3XEucUPMtgbtE",
      "include_colab_link": true
    },
    "kernelspec": {
      "name": "python3",
      "display_name": "Python 3"
    }
  },
  "cells": [
    {
      "cell_type": "markdown",
      "metadata": {
        "id": "view-in-github",
        "colab_type": "text"
      },
      "source": [
        "<a href=\"https://colab.research.google.com/github/GSelvakumar/python-projects/blob/main/ecommerce.ipynb\" target=\"_parent\"><img src=\"https://colab.research.google.com/assets/colab-badge.svg\" alt=\"Open In Colab\"/></a>"
      ]
    },
    {
      "cell_type": "code",
      "metadata": {
        "colab": {
          "base_uri": "https://localhost:8080/"
        },
        "id": "Kxcgq5NteVGZ",
        "outputId": "9157c2b8-86fd-4ec2-d6de-707c44e5de6a"
      },
      "source": [
        "class Customer:\r\n",
        "  def __init__(self, name, email):\r\n",
        "    self.name = name\r\n",
        "    self.email = email\r\n",
        "    self.purchases = []\r\n",
        "\r\n",
        "  def purchase(self, inventory, product):\r\n",
        "    inventory_dict = inventory.inventory\r\n",
        "    if product in inventory_dict:\r\n",
        "      if inventory_dict[product] > 0:\r\n",
        "        self.purchases.append(product)\r\n",
        "        inventory_dict[product] -= 1\r\n",
        "      else:\r\n",
        "        print(\"We are out of stock!\")\r\n",
        "    else:\r\n",
        "      print(\"We don't have the product!\")\r\n",
        "\r\n",
        "  def print_purchases(self):\r\n",
        "    print(\"The customer has purchased\")\r\n",
        "    for item in self.purchases:\r\n",
        "      print(item.name)\r\n",
        "\r\n",
        "\r\n",
        "class Product:\r\n",
        "  def __init__(self, name, price):\r\n",
        "    self.name = name\r\n",
        "    self.price = price\r\n",
        "\r\n",
        "\r\n",
        "class Inventory:\r\n",
        "  def __init__(self):\r\n",
        "    self.inventory = {}\r\n",
        "\r\n",
        "  def add_product(self, product, quantity):\r\n",
        "    if product not in self.inventory:\r\n",
        "      self.inventory[product] = quantity\r\n",
        "    else:\r\n",
        "      self.inventory[product] += quantity\r\n",
        "\r\n",
        "  def print_inventory(self):\r\n",
        "    for key, value in self.inventory.items():\r\n",
        "      print(key.name + ':' + str(value))\r\n",
        "    print()\r\n",
        "\r\n",
        "\r\n",
        "customer = Customer(\"selva\", \"selva@gmail.com\")\r\n",
        "# print(customer.name)\r\n",
        "# print(customer.email)\r\n",
        "\r\n",
        "apple_watch = Product(\"Apple Watch\", 299)\r\n",
        "# print(apple_watch.name)\r\n",
        "# print(apple_watch.price)\r\n",
        "\r\n",
        "macbook = Product(\"Macbook\", 1999)\r\n",
        "# print(macbook.name)\r\n",
        "# print(macbook.price)\r\n",
        "\r\n",
        "inventory = Inventory()\r\n",
        "inventory.add_product(apple_watch, 100)\r\n",
        "# inventory.print_inventory()\r\n",
        "inventory.add_product(macbook, 498)\r\n",
        "inventory.print_inventory()\r\n",
        "customer.purchase(inventory, apple_watch)\r\n",
        "inventory.print_inventory()\r\n",
        "customer.print_purchases()\r\n"
      ],
      "execution_count": 8,
      "outputs": [
        {
          "output_type": "stream",
          "text": [
            "Apple Watch:100\n",
            "Macbook:498\n",
            "\n",
            "Apple Watch:99\n",
            "Macbook:498\n",
            "\n",
            "Apple Watch\n"
          ],
          "name": "stdout"
        }
      ]
    }
  ]
}