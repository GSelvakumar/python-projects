{
  "nbformat": 4,
  "nbformat_minor": 0,
  "metadata": {
    "colab": {
      "name": "data_structures.ipynb",
      "provenance": [],
      "authorship_tag": "ABX9TyMj52QTKVvppYj9J/tvqCAP",
      "include_colab_link": true
    },
    "kernelspec": {
      "name": "python3",
      "display_name": "Python 3"
    },
    "language_info": {
      "name": "python"
    }
  },
  "cells": [
    {
      "cell_type": "markdown",
      "metadata": {
        "id": "view-in-github",
        "colab_type": "text"
      },
      "source": [
        "<a href=\"https://colab.research.google.com/github/GSelvakumar/python-projects/blob/main/data_structures.ipynb\" target=\"_parent\"><img src=\"https://colab.research.google.com/assets/colab-badge.svg\" alt=\"Open In Colab\"/></a>"
      ]
    },
    {
      "cell_type": "markdown",
      "metadata": {
        "id": "pRQH_L5F265J"
      },
      "source": [
        "#Data Structures\n",
        "\n",
        "It mainly uses stack and queue"
      ]
    },
    {
      "cell_type": "markdown",
      "metadata": {
        "id": "McPOZxYh3Fpk"
      },
      "source": [
        "##STACK\n",
        "\n",
        "Stack follows LIFO (Last In First Out) concept. The one that entered recent will be removed first from the stack. It is like a stack of plates."
      ]
    },
    {
      "cell_type": "code",
      "metadata": {
        "id": "fT04bQCa2y6V"
      },
      "source": [
        "class Stack:\n",
        "  def __init__(self):\n",
        "    self.items = []\n",
        "\n",
        "  def is_empty(self):\n",
        "    return self.items == []\n",
        "\n",
        "  def push(self, item):\n",
        "    return self.items.append(item)\n",
        "  \n",
        "  def pop(self):\n",
        "    return self.items.pop()\n",
        "\n",
        "  def peek(self): #returns the last item in the class but not removed\n",
        "    last = len(self.items) - 1\n",
        "    return self.items[last]\n",
        "  \n",
        "  def size(self):\n",
        "    return len(self.items)"
      ],
      "execution_count": 1,
      "outputs": []
    },
    {
      "cell_type": "code",
      "metadata": {
        "colab": {
          "base_uri": "https://localhost:8080/"
        },
        "id": "3bOCeLsZ5YGa",
        "outputId": "1f92eb61-65e2-4b0f-b900-9649a001b087"
      },
      "source": [
        "\n",
        "stack = Stack()\n",
        "stack.is_empty()"
      ],
      "execution_count": 2,
      "outputs": [
        {
          "output_type": "execute_result",
          "data": {
            "text/plain": [
              "True"
            ]
          },
          "metadata": {
            "tags": []
          },
          "execution_count": 2
        }
      ]
    },
    {
      "cell_type": "code",
      "metadata": {
        "colab": {
          "base_uri": "https://localhost:8080/"
        },
        "id": "N7dmms4b5qUc",
        "outputId": "e17fc915-111e-44fb-8a61-88aadbe2e9b7"
      },
      "source": [
        "stack.push(1)\n",
        "stack.is_empty()\n"
      ],
      "execution_count": 3,
      "outputs": [
        {
          "output_type": "execute_result",
          "data": {
            "text/plain": [
              "False"
            ]
          },
          "metadata": {
            "tags": []
          },
          "execution_count": 3
        }
      ]
    },
    {
      "cell_type": "code",
      "metadata": {
        "colab": {
          "base_uri": "https://localhost:8080/"
        },
        "id": "_qYhRanS6J4q",
        "outputId": "1bc7feb3-b080-43fa-a687-489e0407f784"
      },
      "source": [
        "for i in range(3, 11):\n",
        "  stack.push(i)\n",
        "stack.items"
      ],
      "execution_count": 4,
      "outputs": [
        {
          "output_type": "execute_result",
          "data": {
            "text/plain": [
              "[1, 3, 4, 5, 6, 7, 8, 9, 10]"
            ]
          },
          "metadata": {
            "tags": []
          },
          "execution_count": 4
        }
      ]
    },
    {
      "cell_type": "code",
      "metadata": {
        "colab": {
          "base_uri": "https://localhost:8080/"
        },
        "id": "sVNuURw16fXL",
        "outputId": "14e26cca-ec49-414f-a9f9-00db3eb57fbc"
      },
      "source": [
        "stack.size()"
      ],
      "execution_count": 5,
      "outputs": [
        {
          "output_type": "execute_result",
          "data": {
            "text/plain": [
              "9"
            ]
          },
          "metadata": {
            "tags": []
          },
          "execution_count": 5
        }
      ]
    },
    {
      "cell_type": "code",
      "metadata": {
        "colab": {
          "base_uri": "https://localhost:8080/"
        },
        "id": "0BRLaZeIAEGN",
        "outputId": "68dee2ca-188c-402c-bbac-4377c3b41d68"
      },
      "source": [
        "stack.pop()"
      ],
      "execution_count": 6,
      "outputs": [
        {
          "output_type": "execute_result",
          "data": {
            "text/plain": [
              "10"
            ]
          },
          "metadata": {
            "tags": []
          },
          "execution_count": 6
        }
      ]
    },
    {
      "cell_type": "code",
      "metadata": {
        "colab": {
          "base_uri": "https://localhost:8080/"
        },
        "id": "bcpSRi66AJAc",
        "outputId": "1594b694-93ca-4351-f9da-ba6f3995bee7"
      },
      "source": [
        "stack.items"
      ],
      "execution_count": 8,
      "outputs": [
        {
          "output_type": "execute_result",
          "data": {
            "text/plain": [
              "[1, 3, 4, 5, 6, 7, 8, 9]"
            ]
          },
          "metadata": {
            "tags": []
          },
          "execution_count": 8
        }
      ]
    },
    {
      "cell_type": "markdown",
      "metadata": {
        "id": "8k41pcOfIqVK"
      },
      "source": [
        "##QUEUE\n",
        "\n",
        "Queue follows FIFO (First In First Out) concept. The one that enters recent will go out first"
      ]
    },
    {
      "cell_type": "code",
      "metadata": {
        "id": "xsIRzHXiIuuV"
      },
      "source": [
        "class Queue:\n",
        "  def __init__(self):\n",
        "    self.items = []\n",
        "\n",
        "  def is_empty(self):\n",
        "    return self.items == []\n",
        "\n",
        "  def enqueue(self, item):\n",
        "    self.items.insert(0, item)\n",
        "\n",
        "  def dequeue(self):\n",
        "    return self.items.pop()\n",
        "\n",
        "  def size(self):\n",
        "    return len(self.items)"
      ],
      "execution_count": 9,
      "outputs": []
    },
    {
      "cell_type": "code",
      "metadata": {
        "colab": {
          "base_uri": "https://localhost:8080/"
        },
        "id": "Kz7opu2gLC51",
        "outputId": "b60159e7-c75b-4324-bdc1-62757f6b621e"
      },
      "source": [
        "aq = Queue()\n",
        "aq.is_empty()"
      ],
      "execution_count": 10,
      "outputs": [
        {
          "output_type": "execute_result",
          "data": {
            "text/plain": [
              "True"
            ]
          },
          "metadata": {
            "tags": []
          },
          "execution_count": 10
        }
      ]
    },
    {
      "cell_type": "code",
      "metadata": {
        "colab": {
          "base_uri": "https://localhost:8080/"
        },
        "id": "sxrO8HY6LSJm",
        "outputId": "a9e4cfda-d882-45de-9f36-2cd76a6dfe00"
      },
      "source": [
        "for i in range(11):\n",
        "  aq.enqueue(i)\n",
        "aq.items"
      ],
      "execution_count": 11,
      "outputs": [
        {
          "output_type": "execute_result",
          "data": {
            "text/plain": [
              "[10, 9, 8, 7, 6, 5, 4, 3, 2, 1, 0]"
            ]
          },
          "metadata": {
            "tags": []
          },
          "execution_count": 11
        }
      ]
    }
  ]
}