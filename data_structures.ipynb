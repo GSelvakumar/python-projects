{
  "nbformat": 4,
  "nbformat_minor": 0,
  "metadata": {
    "colab": {
      "name": "data_structures.ipynb",
      "provenance": [],
      "authorship_tag": "ABX9TyPVozSKAKEzPaZoSB1KTjXf",
      "include_colab_link": true
    },
    "kernelspec": {
      "name": "python3",
      "display_name": "Python 3"
    },
    "language_info": {
      "name": "python"
    }
  },
  "cells": [
    {
      "cell_type": "markdown",
      "metadata": {
        "id": "view-in-github",
        "colab_type": "text"
      },
      "source": [
        "<a href=\"https://colab.research.google.com/github/GSelvakumar/python-projects/blob/main/data_structures.ipynb\" target=\"_parent\"><img src=\"https://colab.research.google.com/assets/colab-badge.svg\" alt=\"Open In Colab\"/></a>"
      ]
    },
    {
      "cell_type": "markdown",
      "metadata": {
        "id": "pRQH_L5F265J"
      },
      "source": [
        "#Data Structures\n",
        "\n",
        "It mainly uses stack and queue"
      ]
    },
    {
      "cell_type": "markdown",
      "metadata": {
        "id": "McPOZxYh3Fpk"
      },
      "source": [
        "##STACK\n",
        "\n",
        "Stack follows LIFO (Last In First Out) concept. The one that entered recent will be removed first from the stack. It is like a stack of plates."
      ]
    },
    {
      "cell_type": "code",
      "metadata": {
        "id": "fT04bQCa2y6V"
      },
      "source": [
        "class Stack:\n",
        "  def __init__(self):\n",
        "    self.items = []\n",
        "\n",
        "  def is_empty(self):\n",
        "    return self.items == []\n",
        "\n",
        "  def push(self, item):\n",
        "    return self.items.append(item)\n",
        "  \n",
        "  def pop(self):\n",
        "    return self.items.pop()\n",
        "\n",
        "  def peek(self): #returns the last item in the class but not removed\n",
        "    last = len(self.items) - 1\n",
        "    return self.items[last]\n",
        "  \n",
        "  def size(self):\n",
        "    return len(self.items)"
      ],
      "execution_count": 1,
      "outputs": []
    },
    {
      "cell_type": "code",
      "metadata": {
        "colab": {
          "base_uri": "https://localhost:8080/"
        },
        "id": "3bOCeLsZ5YGa",
        "outputId": "1f92eb61-65e2-4b0f-b900-9649a001b087"
      },
      "source": [
        "\n",
        "stack = Stack()\n",
        "stack.is_empty()"
      ],
      "execution_count": 2,
      "outputs": [
        {
          "output_type": "execute_result",
          "data": {
            "text/plain": [
              "True"
            ]
          },
          "metadata": {
            "tags": []
          },
          "execution_count": 2
        }
      ]
    },
    {
      "cell_type": "code",
      "metadata": {
        "colab": {
          "base_uri": "https://localhost:8080/"
        },
        "id": "N7dmms4b5qUc",
        "outputId": "e17fc915-111e-44fb-8a61-88aadbe2e9b7"
      },
      "source": [
        "stack.push(1)\n",
        "stack.is_empty()\n"
      ],
      "execution_count": 3,
      "outputs": [
        {
          "output_type": "execute_result",
          "data": {
            "text/plain": [
              "False"
            ]
          },
          "metadata": {
            "tags": []
          },
          "execution_count": 3
        }
      ]
    },
    {
      "cell_type": "code",
      "metadata": {
        "colab": {
          "base_uri": "https://localhost:8080/"
        },
        "id": "_qYhRanS6J4q",
        "outputId": "1bc7feb3-b080-43fa-a687-489e0407f784"
      },
      "source": [
        "for i in range(3, 11):\n",
        "  stack.push(i)\n",
        "stack.items"
      ],
      "execution_count": 4,
      "outputs": [
        {
          "output_type": "execute_result",
          "data": {
            "text/plain": [
              "[1, 3, 4, 5, 6, 7, 8, 9, 10]"
            ]
          },
          "metadata": {
            "tags": []
          },
          "execution_count": 4
        }
      ]
    },
    {
      "cell_type": "code",
      "metadata": {
        "colab": {
          "base_uri": "https://localhost:8080/"
        },
        "id": "sVNuURw16fXL",
        "outputId": "14e26cca-ec49-414f-a9f9-00db3eb57fbc"
      },
      "source": [
        "stack.size()"
      ],
      "execution_count": 5,
      "outputs": [
        {
          "output_type": "execute_result",
          "data": {
            "text/plain": [
              "9"
            ]
          },
          "metadata": {
            "tags": []
          },
          "execution_count": 5
        }
      ]
    },
    {
      "cell_type": "code",
      "metadata": {
        "colab": {
          "base_uri": "https://localhost:8080/"
        },
        "id": "0BRLaZeIAEGN",
        "outputId": "68dee2ca-188c-402c-bbac-4377c3b41d68"
      },
      "source": [
        "stack.pop()"
      ],
      "execution_count": 6,
      "outputs": [
        {
          "output_type": "execute_result",
          "data": {
            "text/plain": [
              "10"
            ]
          },
          "metadata": {
            "tags": []
          },
          "execution_count": 6
        }
      ]
    },
    {
      "cell_type": "code",
      "metadata": {
        "colab": {
          "base_uri": "https://localhost:8080/"
        },
        "id": "bcpSRi66AJAc",
        "outputId": "1594b694-93ca-4351-f9da-ba6f3995bee7"
      },
      "source": [
        "stack.items"
      ],
      "execution_count": 8,
      "outputs": [
        {
          "output_type": "execute_result",
          "data": {
            "text/plain": [
              "[1, 3, 4, 5, 6, 7, 8, 9]"
            ]
          },
          "metadata": {
            "tags": []
          },
          "execution_count": 8
        }
      ]
    },
    {
      "cell_type": "code",
      "metadata": {
        "colab": {
          "base_uri": "https://localhost:8080/",
          "height": 35
        },
        "id": "duonp_ieT51J",
        "outputId": "a1a9d368-9aa3-4948-add5-922f6d5276b0"
      },
      "source": [
        "###STRING REVERSING\n",
        "\n",
        "stack = Stack()\n",
        "for c in \"Yesterday\":\n",
        "  stack.push(c)\n",
        "\n",
        "reversed_string = \"\"\n",
        "for i in range(len(stack.items)):\n",
        "  reversed_string += stack.pop()\n",
        "\n",
        "reversed_string"
      ],
      "execution_count": 12,
      "outputs": [
        {
          "output_type": "execute_result",
          "data": {
            "application/vnd.google.colaboratory.intrinsic+json": {
              "type": "string"
            },
            "text/plain": [
              "'yadretseY'"
            ]
          },
          "metadata": {
            "tags": []
          },
          "execution_count": 12
        }
      ]
    },
    {
      "cell_type": "code",
      "metadata": {
        "colab": {
          "base_uri": "https://localhost:8080/"
        },
        "id": "-8snGnUPZMSZ",
        "outputId": "2b78ed2f-feb3-4247-807a-02dd56678d1d"
      },
      "source": [
        "stack = Stack()\n",
        "list2 = [1, 2, 3, 4, 5]\n",
        "for c in list2:\n",
        "    stack.push(c)\n",
        "    \n",
        "reversed_list = []\n",
        "for i in range(len(list2)):\n",
        "    new_pick = stack.pop()\n",
        "    reversed_list.append(new_pick)\n",
        "    \n",
        "print(reversed_list)"
      ],
      "execution_count": 15,
      "outputs": [
        {
          "output_type": "stream",
          "text": [
            "[5, 4, 3, 2, 1]\n"
          ],
          "name": "stdout"
        }
      ]
    },
    {
      "cell_type": "markdown",
      "metadata": {
        "id": "8k41pcOfIqVK"
      },
      "source": [
        "##QUEUE\n",
        "\n",
        "Queue follows FIFO (First In First Out) concept. The one that enters recent will go out first"
      ]
    },
    {
      "cell_type": "code",
      "metadata": {
        "id": "xsIRzHXiIuuV"
      },
      "source": [
        "class Queue:\n",
        "  def __init__(self):\n",
        "    self.items = []\n",
        "\n",
        "  def is_empty(self):\n",
        "    return self.items == []\n",
        "\n",
        "  def enqueue(self, item):\n",
        "    self.items.insert(0, item)\n",
        "\n",
        "  def dequeue(self):\n",
        "    return self.items.pop()\n",
        "\n",
        "  def size(self):\n",
        "    return len(self.items)"
      ],
      "execution_count": 9,
      "outputs": []
    },
    {
      "cell_type": "code",
      "metadata": {
        "colab": {
          "base_uri": "https://localhost:8080/"
        },
        "id": "Kz7opu2gLC51",
        "outputId": "b60159e7-c75b-4324-bdc1-62757f6b621e"
      },
      "source": [
        "aq = Queue()\n",
        "aq.is_empty()"
      ],
      "execution_count": 10,
      "outputs": [
        {
          "output_type": "execute_result",
          "data": {
            "text/plain": [
              "True"
            ]
          },
          "metadata": {
            "tags": []
          },
          "execution_count": 10
        }
      ]
    },
    {
      "cell_type": "code",
      "metadata": {
        "colab": {
          "base_uri": "https://localhost:8080/"
        },
        "id": "sxrO8HY6LSJm",
        "outputId": "a9e4cfda-d882-45de-9f36-2cd76a6dfe00"
      },
      "source": [
        "for i in range(11):\n",
        "  aq.enqueue(i)\n",
        "aq.items"
      ],
      "execution_count": 11,
      "outputs": [
        {
          "output_type": "execute_result",
          "data": {
            "text/plain": [
              "[10, 9, 8, 7, 6, 5, 4, 3, 2, 1, 0]"
            ]
          },
          "metadata": {
            "tags": []
          },
          "execution_count": 11
        }
      ]
    },
    {
      "cell_type": "markdown",
      "metadata": {
        "id": "_xN6NxBVg6qh"
      },
      "source": [
        "##LINKED LISTS\n",
        "\n",
        "A linked list is a collection of data that can be stored as nodes in non consecutive memory locations."
      ]
    },
    {
      "cell_type": "code",
      "metadata": {
        "colab": {
          "base_uri": "https://localhost:8080/"
        },
        "id": "nO86t5A0A5Lx",
        "outputId": "83ec8286-c5ad-47da-abb8-73811169943f"
      },
      "source": [
        "class Node:\n",
        "  def __init__(self, data=None, next=None):\n",
        "    self.data = data\n",
        "    self.next = next\n",
        "\n",
        "  def print_node(self):\n",
        "    print(self.data)\n",
        "\n",
        "a_node = Node(\"Monday\")\n",
        "a_node.print_node()\n"
      ],
      "execution_count": 16,
      "outputs": [
        {
          "output_type": "stream",
          "text": [
            "Monday\n"
          ],
          "name": "stdout"
        }
      ]
    },
    {
      "cell_type": "code",
      "metadata": {
        "colab": {
          "base_uri": "https://localhost:8080/"
        },
        "id": "9_n4G2EFJF1Y",
        "outputId": "cb1139c1-96dd-42fe-ddb5-28cddcef03c6"
      },
      "source": [
        "class LinkedList:\n",
        "  def __init__(self):\n",
        "    self.head = None\n",
        "\n",
        "  def append_node(self, data):\n",
        "    if not self.head:\n",
        "      self.head = Node(data)\n",
        "      return\n",
        "    else:\n",
        "      current = self.head\n",
        "      while current.next:\n",
        "        current = current.next\n",
        "      current.next = Node(data)\n",
        "\n",
        "  def print_list(self):\n",
        "    node = self.head\n",
        "    while node is not None:\n",
        "      print(node.data)\n",
        "      node = node.next\n",
        "\n",
        "the_list = LinkedList()\n",
        "\n",
        "the_list.append_node(\"Tuesday\")\n",
        "the_list.append_node(\"Wednesday\")\n",
        "\n",
        "the_list.print_list()"
      ],
      "execution_count": 22,
      "outputs": [
        {
          "output_type": "stream",
          "text": [
            "Tuesday\n",
            "Wednesday\n"
          ],
          "name": "stdout"
        }
      ]
    }
  ]
}