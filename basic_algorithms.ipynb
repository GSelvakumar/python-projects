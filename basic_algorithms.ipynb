{
  "nbformat": 4,
  "nbformat_minor": 0,
  "metadata": {
    "colab": {
      "name": "basic_algorithms.ipynb",
      "provenance": [],
      "include_colab_link": true
    },
    "kernelspec": {
      "name": "python3",
      "display_name": "Python 3"
    },
    "language_info": {
      "name": "python"
    }
  },
  "cells": [
    {
      "cell_type": "markdown",
      "metadata": {
        "id": "view-in-github",
        "colab_type": "text"
      },
      "source": [
        "<a href=\"https://colab.research.google.com/github/GSelvakumar/python-projects/blob/main/basic_algorithms.ipynb\" target=\"_parent\"><img src=\"https://colab.research.google.com/assets/colab-badge.svg\" alt=\"Open In Colab\"/></a>"
      ]
    },
    {
      "cell_type": "markdown",
      "metadata": {
        "id": "AbunU1kGqyCy"
      },
      "source": [
        "##FIZZ BUZZ ALGORITHM\n",
        "\n",
        "Code should print **fizz** if it is a multiple of 3, **buzz** if it is a multiple of 5 and should print **fizzbuzz** if it is a multiple of both 3 and 5"
      ]
    },
    {
      "cell_type": "code",
      "metadata": {
        "id": "Kfc_KjGKnY3r"
      },
      "source": [
        "def fizzbuzz():\n",
        "  for i in range(1, 101):\n",
        "    if i % 3 == 0 and i % 5 == 0:\n",
        "      print(\"fizzbuzz\")\n",
        "    elif i % 3 == 0:\n",
        "      print(\"fizz\")\n",
        "    elif i % 5 == 0:\n",
        "      print(\"buzz\")\n",
        "    else:\n",
        "      print(i)\n",
        "\n",
        "fizzbuzz()"
      ],
      "execution_count": null,
      "outputs": []
    },
    {
      "cell_type": "markdown",
      "metadata": {
        "id": "bFSFLDOquD3Y"
      },
      "source": [
        "##SEQUENTIAL SEARCH\n",
        "\n",
        "Used to search a list or tuple sequentially."
      ]
    },
    {
      "cell_type": "code",
      "metadata": {
        "colab": {
          "base_uri": "https://localhost:8080/",
          "height": 35
        },
        "id": "HAgdimGeuU3j",
        "outputId": "0f3f4bbd-713d-4dc3-d92d-4e43b9a4fdd5"
      },
      "source": [
        "def sequential_search(search_list, search_number):\n",
        "  match = False\n",
        "  for i in search_list:\n",
        "    if i == search_number:\n",
        "      match = True\n",
        "      break\n",
        "    return \"match found\"\n",
        "\n",
        "sequential_search([1, 2, 3, 4, 5], 3)"
      ],
      "execution_count": null,
      "outputs": [
        {
          "output_type": "execute_result",
          "data": {
            "application/vnd.google.colaboratory.intrinsic+json": {
              "type": "string"
            },
            "text/plain": [
              "'match found'"
            ]
          },
          "metadata": {
            "tags": []
          },
          "execution_count": 7
        }
      ]
    },
    {
      "cell_type": "markdown",
      "metadata": {
        "id": "eXQaDk9NwZ45"
      },
      "source": [
        "##PALINDROME\n",
        "\n",
        "Same word should be return it is reversed."
      ]
    },
    {
      "cell_type": "code",
      "metadata": {
        "colab": {
          "base_uri": "https://localhost:8080/",
          "height": 35
        },
        "id": "GDshlH6xwlPy",
        "outputId": "66732530-866e-4c73-d65a-c402301fce65"
      },
      "source": [
        "def palindrome(word):\n",
        "  word = word.lower()\n",
        "  if word[::-1] == word:\n",
        "    return \"It is a palindrome\"\n",
        "  else:\n",
        "    return \"It is not a palindrome\"\n",
        "\n",
        "palindrome(\"mam\")"
      ],
      "execution_count": null,
      "outputs": [
        {
          "output_type": "execute_result",
          "data": {
            "application/vnd.google.colaboratory.intrinsic+json": {
              "type": "string"
            },
            "text/plain": [
              "'It is a palindrome'"
            ]
          },
          "metadata": {
            "tags": []
          },
          "execution_count": 12
        }
      ]
    },
    {
      "cell_type": "markdown",
      "metadata": {
        "id": "8Lh5MvBEyIrs"
      },
      "source": [
        "##ANAGRAM\n",
        "\n",
        "Checks if the two words are anagram which can create each other if they are sorted and arranged in different order.\n",
        "\n",
        "The method to check this is to sort them in alphabetic order and match them"
      ]
    },
    {
      "cell_type": "code",
      "metadata": {
        "colab": {
          "base_uri": "https://localhost:8080/"
        },
        "id": "d-UijJ0WyeSh",
        "outputId": "33de2ba9-26f5-4ae6-e466-1bfacf3a2ee0"
      },
      "source": [
        "def anagram(word1, word2):\n",
        "  word1 = word1.lower()\n",
        "  word2 = word2.lower()\n",
        "  if sorted(word1) == sorted(word2):\n",
        "    print(\"It is an anagram\")\n",
        "  else:\n",
        "    print(\"It is not an anagram\")\n",
        "\n",
        "result = anagram(\"iceman\", \"cinema\")"
      ],
      "execution_count": null,
      "outputs": [
        {
          "output_type": "stream",
          "text": [
            "It is an anagram\n"
          ],
          "name": "stdout"
        }
      ]
    },
    {
      "cell_type": "markdown",
      "metadata": {
        "id": "a2smgX-QzrPi"
      },
      "source": [
        "##COUNT CHARACTERS\n"
      ]
    },
    {
      "cell_type": "code",
      "metadata": {
        "colab": {
          "base_uri": "https://localhost:8080/"
        },
        "id": "MS3GfPbIz32l",
        "outputId": "a46cac2e-6d48-4c78-c305-609ad909799d"
      },
      "source": [
        "def count_characters(string):\n",
        "  count_dict = {}\n",
        "  for c in string:\n",
        "    if c in count_dict:\n",
        "      count_dict[c] += 1\n",
        "    else:\n",
        "      count_dict[c] = 1\n",
        "  print(count_dict)\n",
        "\n",
        "count_characters(\"program\")"
      ],
      "execution_count": null,
      "outputs": [
        {
          "output_type": "stream",
          "text": [
            "{'p': 1, 'r': 2, 'o': 1, 'g': 1, 'a': 1, 'm': 1}\n"
          ],
          "name": "stdout"
        }
      ]
    }
  ]
}