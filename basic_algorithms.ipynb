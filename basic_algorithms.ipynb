{
  "nbformat": 4,
  "nbformat_minor": 0,
  "metadata": {
    "colab": {
      "name": "basic_algorithms.ipynb",
      "provenance": [],
      "include_colab_link": true
    },
    "kernelspec": {
      "name": "python3",
      "display_name": "Python 3"
    },
    "language_info": {
      "name": "python"
    }
  },
  "cells": [
    {
      "cell_type": "markdown",
      "metadata": {
        "id": "view-in-github",
        "colab_type": "text"
      },
      "source": [
        "<a href=\"https://colab.research.google.com/github/GSelvakumar/python-projects/blob/main/basic_algorithms.ipynb\" target=\"_parent\"><img src=\"https://colab.research.google.com/assets/colab-badge.svg\" alt=\"Open In Colab\"/></a>"
      ]
    },
    {
      "cell_type": "markdown",
      "metadata": {
        "id": "AbunU1kGqyCy"
      },
      "source": [
        "##FIZZ BUZZ ALGORITHM\n",
        "\n",
        "Code should print **fizz** if it is a multiple of 3, **buzz** if it is a multiple of 5 and should print **fizzbuzz** if it is a multiple of both 3 and 5"
      ]
    },
    {
      "cell_type": "code",
      "metadata": {
        "id": "Kfc_KjGKnY3r"
      },
      "source": [
        "def fizzbuzz():\n",
        "  for i in range(1, 101):\n",
        "    if i % 3 == 0 and i % 5 == 0:\n",
        "      print(\"fizzbuzz\")\n",
        "    elif i % 3 == 0:\n",
        "      print(\"fizz\")\n",
        "    elif i % 5 == 0:\n",
        "      print(\"buzz\")\n",
        "    else:\n",
        "      print(i)\n",
        "\n",
        "fizzbuzz()"
      ],
      "execution_count": null,
      "outputs": []
    },
    {
      "cell_type": "markdown",
      "metadata": {
        "id": "bFSFLDOquD3Y"
      },
      "source": [
        "##SEQUENTIAL SEARCH\n",
        "\n",
        "Used to search a list or tuple sequentially."
      ]
    },
    {
      "cell_type": "code",
      "metadata": {
        "colab": {
          "base_uri": "https://localhost:8080/",
          "height": 35
        },
        "id": "HAgdimGeuU3j",
        "outputId": "0f3f4bbd-713d-4dc3-d92d-4e43b9a4fdd5"
      },
      "source": [
        "def sequential_search(search_list, search_number):\n",
        "  match = False\n",
        "  for i in search_list:\n",
        "    if i == search_number:\n",
        "      match = True\n",
        "      break\n",
        "    return \"match found\"\n",
        "\n",
        "sequential_search([1, 2, 3, 4, 5], 3)"
      ],
      "execution_count": null,
      "outputs": [
        {
          "output_type": "execute_result",
          "data": {
            "application/vnd.google.colaboratory.intrinsic+json": {
              "type": "string"
            },
            "text/plain": [
              "'match found'"
            ]
          },
          "metadata": {
            "tags": []
          },
          "execution_count": 7
        }
      ]
    },
    {
      "cell_type": "markdown",
      "metadata": {
        "id": "eXQaDk9NwZ45"
      },
      "source": [
        "##PALINDROME\n",
        "\n",
        "Same word should be return it is reversed."
      ]
    },
    {
      "cell_type": "code",
      "metadata": {
        "colab": {
          "base_uri": "https://localhost:8080/",
          "height": 35
        },
        "id": "GDshlH6xwlPy",
        "outputId": "66732530-866e-4c73-d65a-c402301fce65"
      },
      "source": [
        "def palindrome(word):\n",
        "  word = word.lower()\n",
        "  if word[::-1] == word:\n",
        "    return \"It is a palindrome\"\n",
        "  else:\n",
        "    return \"It is not a palindrome\"\n",
        "\n",
        "palindrome(\"mam\")"
      ],
      "execution_count": null,
      "outputs": [
        {
          "output_type": "execute_result",
          "data": {
            "application/vnd.google.colaboratory.intrinsic+json": {
              "type": "string"
            },
            "text/plain": [
              "'It is a palindrome'"
            ]
          },
          "metadata": {
            "tags": []
          },
          "execution_count": 12
        }
      ]
    },
    {
      "cell_type": "markdown",
      "metadata": {
        "id": "8Lh5MvBEyIrs"
      },
      "source": [
        "##ANAGRAM\n",
        "\n",
        "Checks if the two words are anagram which can create each other if they are sorted and arranged in different order.\n",
        "\n",
        "The method to check this is to sort them in alphabetic order and match them"
      ]
    },
    {
      "cell_type": "code",
      "metadata": {
        "colab": {
          "base_uri": "https://localhost:8080/"
        },
        "id": "d-UijJ0WyeSh",
        "outputId": "33de2ba9-26f5-4ae6-e466-1bfacf3a2ee0"
      },
      "source": [
        "def anagram(word1, word2):\n",
        "  word1 = word1.lower()\n",
        "  word2 = word2.lower()\n",
        "  if sorted(word1) == sorted(word2):\n",
        "    print(\"It is an anagram\")\n",
        "  else:\n",
        "    print(\"It is not an anagram\")\n",
        "\n",
        "result = anagram(\"iceman\", \"cinema\")"
      ],
      "execution_count": null,
      "outputs": [
        {
          "output_type": "stream",
          "text": [
            "It is an anagram\n"
          ],
          "name": "stdout"
        }
      ]
    },
    {
      "cell_type": "markdown",
      "metadata": {
        "id": "a2smgX-QzrPi"
      },
      "source": [
        "##COUNT CHARACTERS\n"
      ]
    },
    {
      "cell_type": "code",
      "metadata": {
        "colab": {
          "base_uri": "https://localhost:8080/"
        },
        "id": "MS3GfPbIz32l",
        "outputId": "a46cac2e-6d48-4c78-c305-609ad909799d"
      },
      "source": [
        "def count_characters(string):\n",
        "  count_dict = {}\n",
        "  for c in string:\n",
        "    if c in count_dict:\n",
        "      count_dict[c] += 1\n",
        "    else:\n",
        "      count_dict[c] = 1\n",
        "  print(count_dict)\n",
        "\n",
        "count_characters(\"program\")"
      ],
      "execution_count": null,
      "outputs": [
        {
          "output_type": "stream",
          "text": [
            "{'p': 1, 'r': 2, 'o': 1, 'g': 1, 'a': 1, 'm': 1}\n"
          ],
          "name": "stdout"
        }
      ]
    },
    {
      "cell_type": "markdown",
      "metadata": {
        "id": "grann8OkjzY_"
      },
      "source": [
        "## Combine Two Lists\n",
        "\n",
        "zip is used to combine two lists in python using for loop."
      ]
    },
    {
      "cell_type": "code",
      "metadata": {
        "colab": {
          "base_uri": "https://localhost:8080/"
        },
        "id": "L27D7AHmkCS0",
        "outputId": "25013bf4-8855-4d44-a04d-3336a1bc3832"
      },
      "source": [
        "movies = [\"Interstellar\", \"Inception\", \"The Prestige\", \"The Dark Knight\", \"Batman Begins\"]\n",
        "ratings = [7, 10, 10, 8, 6]\n",
        "new_list = []\n",
        "for i in zip(movies, ratings):\n",
        "  new_list.append(i)\n",
        "print(\"The movies and their ratings:-\")\n",
        "print(new_list)"
      ],
      "execution_count": 1,
      "outputs": [
        {
          "output_type": "stream",
          "text": [
            "The movies and their ratings:-\n",
            "[('Interstellar', 7), ('Inception', 10), ('The Prestige', 10), ('The Dark Knight', 8), ('Batman Begins', 6)]\n"
          ],
          "name": "stdout"
        }
      ]
    },
    {
      "cell_type": "markdown",
      "metadata": {
        "id": "9FixlsNE_lVC"
      },
      "source": [
        "##Recursive Algorithm\n",
        "\n",
        "A recursive algorithm is written inside the function. \n",
        "\n",
        "**BASE CASE:** A condition that ends a recursive algorithm to stop it from continuing.\n",
        "\n",
        "There are *three laws of recursion* they are:\n",
        "\n",
        "1. A recursive algorithm must have a base case.\n",
        "2. A recursive algorithm must change its state and move toward the base case.\n",
        "3. A recursive algorithm must call itself, recursively."
      ]
    },
    {
      "cell_type": "code",
      "metadata": {
        "colab": {
          "base_uri": "https://localhost:8080/"
        },
        "id": "wDwL6-zkBYmd",
        "outputId": "db3ada8d-8ca5-49d4-8a46-3eb1f3d97d71"
      },
      "source": [
        "def bottles_of_beer(bob):\n",
        "  if bob < 1:\n",
        "    print(\"No more bottles of beer on the wall. No more bottles of beer.\")\n",
        "    return \n",
        "  temp = bob\n",
        "  bob -= 1\n",
        "  print(\"\"\"{} bottles of beer on the wall. {} bottles \n",
        "           of beer. Take one down, pass it around, \n",
        "           {} bottles of beer on the wall.\"\"\".format(temp, temp, bob))\n",
        "  bottles_of_beer(bob)\n",
        "\n",
        "bottles_of_beer(10)"
      ],
      "execution_count": 7,
      "outputs": [
        {
          "output_type": "stream",
          "text": [
            "10 bottles of beer on the wall. 10 bottles \n",
            "           of beer. Take one down, pass it around, \n",
            "           9 bottles of beer on the wall.\n",
            "9 bottles of beer on the wall. 9 bottles \n",
            "           of beer. Take one down, pass it around, \n",
            "           8 bottles of beer on the wall.\n",
            "8 bottles of beer on the wall. 8 bottles \n",
            "           of beer. Take one down, pass it around, \n",
            "           7 bottles of beer on the wall.\n",
            "7 bottles of beer on the wall. 7 bottles \n",
            "           of beer. Take one down, pass it around, \n",
            "           6 bottles of beer on the wall.\n",
            "6 bottles of beer on the wall. 6 bottles \n",
            "           of beer. Take one down, pass it around, \n",
            "           5 bottles of beer on the wall.\n",
            "5 bottles of beer on the wall. 5 bottles \n",
            "           of beer. Take one down, pass it around, \n",
            "           4 bottles of beer on the wall.\n",
            "4 bottles of beer on the wall. 4 bottles \n",
            "           of beer. Take one down, pass it around, \n",
            "           3 bottles of beer on the wall.\n",
            "3 bottles of beer on the wall. 3 bottles \n",
            "           of beer. Take one down, pass it around, \n",
            "           2 bottles of beer on the wall.\n",
            "2 bottles of beer on the wall. 2 bottles \n",
            "           of beer. Take one down, pass it around, \n",
            "           1 bottles of beer on the wall.\n",
            "1 bottles of beer on the wall. 1 bottles \n",
            "           of beer. Take one down, pass it around, \n",
            "           0 bottles of beer on the wall.\n",
            "No more bottles of beer on the wall. No more bottles of beer.\n"
          ],
          "name": "stdout"
        }
      ]
    },
    {
      "cell_type": "code",
      "metadata": {
        "colab": {
          "base_uri": "https://localhost:8080/"
        },
        "id": "lNgtojiFGoIt",
        "outputId": "3811cdbd-fe15-4bf5-d333-745fd1d4ac32"
      },
      "source": [
        "#Example2\n",
        "\n",
        "def print_to_zero(n):\n",
        "  if n < 0:\n",
        "    return\n",
        "  print(n)\n",
        "  print_to_zero(n - 1)\n",
        "\n",
        "print_to_zero(5)"
      ],
      "execution_count": 8,
      "outputs": [
        {
          "output_type": "stream",
          "text": [
            "5\n",
            "4\n",
            "3\n",
            "2\n",
            "1\n",
            "0\n"
          ],
          "name": "stdout"
        }
      ]
    },
    {
      "cell_type": "markdown",
      "metadata": {
        "id": "jStem1TOYyWQ"
      },
      "source": [
        "##BINARY SEARCH\n",
        "\n",
        "It is a series of iterations that divide a sorted list in half to drill down to a specific element."
      ]
    },
    {
      "cell_type": "code",
      "metadata": {
        "colab": {
          "base_uri": "https://localhost:8080/"
        },
        "id": "HCsp5lPsZ30P",
        "outputId": "4a1381d6-bce3-46b1-cf6a-3fe4c6593a6e"
      },
      "source": [
        "def binary_search(the_list, item):\n",
        "  first = 0\n",
        "  last = len(the_list) - 1\n",
        "  found = False\n",
        "\n",
        "  while first <= last and not found:\n",
        "    mid = (first + last) // 2\n",
        "    if the_list[mid] == item:\n",
        "      found = True\n",
        "      print(\"The search item is found\")\n",
        "\n",
        "    else:\n",
        "      if item < the_list[mid]:\n",
        "        last = mid - 1\n",
        "\n",
        "      else:\n",
        "        first = mid + 1\n",
        "\n",
        "  return found\n",
        "\n",
        "the_list = [10, 11, 12, 13, 14, 15, 16, 17, 18, 19]\n",
        "item = 18\n",
        "\n",
        "if binary_search(the_list, item):\n",
        "  print(\"The item is in the list\")\n",
        "else:\n",
        "  print(\"The item is not in the list\")\n",
        "\n"
      ],
      "execution_count": 10,
      "outputs": [
        {
          "output_type": "stream",
          "text": [
            "The search item is found\n",
            "The item is in the list\n"
          ],
          "name": "stdout"
        }
      ]
    },
    {
      "cell_type": "markdown",
      "metadata": {
        "id": "fcrzjKYvcHXH"
      },
      "source": [
        "##FINDING THE DUPLICATE\n",
        "\n",
        "set() in python is used to remove the duplicate data."
      ]
    },
    {
      "cell_type": "code",
      "metadata": {
        "colab": {
          "base_uri": "https://localhost:8080/"
        },
        "id": "aQbvZ_jzcVbb",
        "outputId": "9f908c7a-c081-4910-bca6-452bdc8637e7"
      },
      "source": [
        "the_set = set()\n",
        "the_set.add(\"NewYork\")\n",
        "the_set.add(\"Paris\")\n",
        "the_set.add(\"HongKong\")\n",
        "the_set.add(\"Paris\")\n",
        "the_set.add(\"Moscow\")\n",
        "\n",
        "print(the_set)\n"
      ],
      "execution_count": 11,
      "outputs": [
        {
          "output_type": "stream",
          "text": [
            "{'Paris', 'HongKong', 'NewYork', 'Moscow'}\n"
          ],
          "name": "stdout"
        }
      ]
    },
    {
      "cell_type": "code",
      "metadata": {
        "colab": {
          "base_uri": "https://localhost:8080/"
        },
        "id": "stTSeS4Td0sH",
        "outputId": "1ab0cb45-b3cd-4478-c8af-d317b1fb5ad0"
      },
      "source": [
        "def return_duplicates(the_list):\n",
        "  dups = []\n",
        "  a_set = set()\n",
        "  for i in the_list:\n",
        "    length_1 = len(a_set)\n",
        "    a_set.add(i)\n",
        "    length_2 = len(a_set)\n",
        "    if length_1 == length_2:\n",
        "      dups.append(i)\n",
        "  return dups\n",
        "\n",
        "the_list = ['NewYork', 'Paris', 'HongKong', 'Paris', 'Moscow']\n",
        "dups = return_duplicates(the_list)\n",
        "print(dups)\n"
      ],
      "execution_count": 17,
      "outputs": [
        {
          "output_type": "stream",
          "text": [
            "['Paris']\n"
          ],
          "name": "stdout"
        }
      ]
    }
  ]
}